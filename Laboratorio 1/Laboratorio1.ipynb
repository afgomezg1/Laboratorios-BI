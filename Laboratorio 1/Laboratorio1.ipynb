{
 "cells": [
  {
   "cell_type": "markdown",
   "id": "5482635f",
   "metadata": {},
   "source": [
    "# **Laboratorio 1**"
   ]
  },
  {
   "cell_type": "markdown",
   "id": "e6cb510a",
   "metadata": {},
   "source": [
    "**Integrantes**\n",
    "\n",
    "\n",
    "**Estudiante 1:**\n",
    "\n",
    "**Estudiante 2:**\n",
    "\n",
    "**Estudiante 3:**"
   ]
  },
  {
   "cell_type": "code",
   "execution_count": null,
   "id": "0910dcc1",
   "metadata": {},
   "outputs": [],
   "source": [
    "# Imports\n",
    "\n"
   ]
  },
  {
   "cell_type": "markdown",
   "id": "bd51b1f1",
   "metadata": {},
   "source": [
    "## **Entendimiento de los Datos**"
   ]
  },
  {
   "cell_type": "markdown",
   "id": "15806576",
   "metadata": {},
   "source": [
    "## **Preparación de los Datos**"
   ]
  },
  {
   "cell_type": "markdown",
   "id": "2e037dab",
   "metadata": {},
   "source": [
    "## **Modelado**"
   ]
  },
  {
   "cell_type": "markdown",
   "id": "ba4fe4c6",
   "metadata": {},
   "source": [
    "## **Evaluación Cuantitativa**"
   ]
  },
  {
   "cell_type": "markdown",
   "id": "1bebcd85",
   "metadata": {},
   "source": [
    "## **Evaluación Cualitativa**"
   ]
  },
  {
   "cell_type": "markdown",
   "id": "28a2686f",
   "metadata": {},
   "source": [
    "## **Exportación del Mejor Modelo**"
   ]
  },
  {
   "cell_type": "markdown",
   "id": "a6a34f82",
   "metadata": {},
   "source": [
    "## **Generación de Predicciones con el Mejor Modelo**"
   ]
  }
 ],
 "metadata": {
  "language_info": {
   "name": "python"
  }
 },
 "nbformat": 4,
 "nbformat_minor": 5
}
